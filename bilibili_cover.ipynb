{
 "cells": [
  {
   "cell_type": "code",
   "execution_count": 6,
   "metadata": {
    "scrolled": false
   },
   "outputs": [],
   "source": [
    "import json\n",
    "import requests\n",
    "from PIL import Image\n",
    "from io import BytesIO"
   ]
  },
  {
   "cell_type": "code",
   "execution_count": 14,
   "metadata": {},
   "outputs": [
    {
     "name": "stdout",
     "output_type": "stream",
     "text": [
      "请输入要查找的av号：60451470\n"
     ]
    }
   ],
   "source": [
    "verbose = True\n",
    "path = '/Users/jerrygu/Desktop/'\n",
    "aid = input(\"请输入要查找的av号：\")"
   ]
  },
  {
   "cell_type": "code",
   "execution_count": 15,
   "metadata": {},
   "outputs": [],
   "source": [
    "url = 'https://api.bilibili.com/x/web-interface/view?aid=%s' % (aid)\n",
    "headers = {'User-Agent': 'Mozilla/5.0 (Macintosh; Intel Mac OS X 10_14_6) \\\n",
    "           AppleWebKit/537.36 (KHTML, like Gecko) Chrome/75.0.3770.142 Safari/537.36',\n",
    "            'Referer': 'https://www.bilibili.com'}\n",
    "\n",
    "response = requests.get(url, headers=headers)  #证书验证设为FALSE\n",
    "\n",
    "contents = json.loads(response.content)"
   ]
  },
  {
   "cell_type": "code",
   "execution_count": 16,
   "metadata": {},
   "outputs": [],
   "source": [
    "if contents.get('code') == 0:\n",
    "    pic_url = contents.get('data').get('pic')\n",
    "    pic_res = requests.get(pic_url, headers=headers)\n",
    "    image = Image.open(BytesIO(pic_res.content))\n",
    "    image.save(path + 'av' + str(aid) + '.jpg')\n",
    "\n",
    "else:\n",
    "    if verbose:\n",
    "        print(\"av%s不存在\" % aid)"
   ]
  }
 ],
 "metadata": {
  "kernelspec": {
   "display_name": "Python 3",
   "language": "python",
   "name": "python3"
  },
  "language_info": {
   "codemirror_mode": {
    "name": "ipython",
    "version": 3
   },
   "file_extension": ".py",
   "mimetype": "text/x-python",
   "name": "python",
   "nbconvert_exporter": "python",
   "pygments_lexer": "ipython3",
   "version": "3.6.8"
  }
 },
 "nbformat": 4,
 "nbformat_minor": 2
}
